{
  "cells": [
    {
      "cell_type": "code",
      "execution_count": null,
      "metadata": {
        "colab": {
          "base_uri": "https://localhost:8080/"
        },
        "id": "-0hAJG4r0aMl",
        "outputId": "3726c07a-e763-4503-9503-62255b76f4d4"
      },
      "outputs": [
        {
          "name": "stdout",
          "output_type": "stream",
          "text": [
            "--2023-07-23 05:55:24--  https://zenodo.org/record/2582968/files/code4bench.rar?download=1\n",
            "Resolving zenodo.org (zenodo.org)... 188.185.124.72\n",
            "Connecting to zenodo.org (zenodo.org)|188.185.124.72|:443... connected.\n",
            "HTTP request sent, awaiting response... 200 OK\n",
            "Length: 635883922 (606M) [application/octet-stream]\n",
            "Saving to: ‘code4bench.rar?download=1’\n",
            "\n",
            "code4bench.rar?down 100%[===================>] 606.43M  23.7MB/s    in 26s     \n",
            "\n",
            "2023-07-23 05:55:51 (22.9 MB/s) - ‘code4bench.rar?download=1’ saved [635883922/635883922]\n",
            "\n"
          ]
        }
      ],
      "source": [
        "!wget https://zenodo.org/record/2582968/files/code4bench.rar?download=1"
      ]
    },
    {
      "cell_type": "code",
      "execution_count": null,
      "metadata": {
        "colab": {
          "base_uri": "https://localhost:8080/"
        },
        "id": "oCMVDkxpMdQX",
        "outputId": "50af6561-4ab3-487d-df55-196fa5d13af5"
      },
      "outputs": [
        {
          "name": "stdout",
          "output_type": "stream",
          "text": [
            "Collecting openai\n",
            "  Downloading openai-0.27.8-py3-none-any.whl (73 kB)\n",
            "\u001b[?25l     \u001b[90m━━━━━━━━━━━━━━━━━━━━━━━━━━━━━━━━━━━━━━━━\u001b[0m \u001b[32m0.0/73.6 kB\u001b[0m \u001b[31m?\u001b[0m eta \u001b[36m-:--:--\u001b[0m\r\u001b[2K     \u001b[90m━━━━━━━━━━━━━━━━━━━━━━━━━━━━━━━━━━━━━━━━\u001b[0m \u001b[32m73.6/73.6 kB\u001b[0m \u001b[31m2.1 MB/s\u001b[0m eta \u001b[36m0:00:00\u001b[0m\n",
            "\u001b[?25hRequirement already satisfied: requests>=2.20 in /usr/local/lib/python3.10/dist-packages (from openai) (2.27.1)\n",
            "Requirement already satisfied: tqdm in /usr/local/lib/python3.10/dist-packages (from openai) (4.65.0)\n",
            "Requirement already satisfied: aiohttp in /usr/local/lib/python3.10/dist-packages (from openai) (3.8.4)\n",
            "Requirement already satisfied: urllib3<1.27,>=1.21.1 in /usr/local/lib/python3.10/dist-packages (from requests>=2.20->openai) (1.26.16)\n",
            "Requirement already satisfied: certifi>=2017.4.17 in /usr/local/lib/python3.10/dist-packages (from requests>=2.20->openai) (2023.5.7)\n",
            "Requirement already satisfied: charset-normalizer~=2.0.0 in /usr/local/lib/python3.10/dist-packages (from requests>=2.20->openai) (2.0.12)\n",
            "Requirement already satisfied: idna<4,>=2.5 in /usr/local/lib/python3.10/dist-packages (from requests>=2.20->openai) (3.4)\n",
            "Requirement already satisfied: attrs>=17.3.0 in /usr/local/lib/python3.10/dist-packages (from aiohttp->openai) (23.1.0)\n",
            "Requirement already satisfied: multidict<7.0,>=4.5 in /usr/local/lib/python3.10/dist-packages (from aiohttp->openai) (6.0.4)\n",
            "Requirement already satisfied: async-timeout<5.0,>=4.0.0a3 in /usr/local/lib/python3.10/dist-packages (from aiohttp->openai) (4.0.2)\n",
            "Requirement already satisfied: yarl<2.0,>=1.0 in /usr/local/lib/python3.10/dist-packages (from aiohttp->openai) (1.9.2)\n",
            "Requirement already satisfied: frozenlist>=1.1.1 in /usr/local/lib/python3.10/dist-packages (from aiohttp->openai) (1.4.0)\n",
            "Requirement already satisfied: aiosignal>=1.1.2 in /usr/local/lib/python3.10/dist-packages (from aiohttp->openai) (1.3.1)\n",
            "Installing collected packages: openai\n",
            "Successfully installed openai-0.27.8\n"
          ]
        }
      ],
      "source": [
        "!pip install openai"
      ]
    },
    {
      "cell_type": "code",
      "execution_count": null,
      "metadata": {
        "id": "st4pN2yLLmO5"
      },
      "outputs": [],
      "source": [
        "import openai\n",
        "openai.api_key = \"YOUR OPENAI KEY\"\n",
        "\n",
        "def chat_with_gpt(prompt):\n",
        "    try:\n",
        "        response = openai.ChatCompletion.create(\n",
        "        model='gpt-3.5-turbo',\n",
        "        messages = [{\"role\": \"user\", \"content\": prompt}],\n",
        "        )\n",
        "        message = response.choices[0].message.content\n",
        "        return message\n",
        "    except Exception as e:\n",
        "        print(\"Error:\", str(e))"
      ]
    },
    {
      "cell_type": "code",
      "execution_count": null,
      "metadata": {
        "id": "oDimezxyMTjh"
      },
      "outputs": [],
      "source": [
        "import re\n",
        "\n",
        "def extract_code_blocks(text):\n",
        "    code_blocks = []\n",
        "    pattern = r\"```(.*?)```\"\n",
        "    matches = re.findall(pattern, text, re.DOTALL)\n",
        "    for match in matches:\n",
        "        code_blocks.append(match.strip())\n",
        "    return code_blocks"
      ]
    },
    {
      "cell_type": "code",
      "execution_count": null,
      "metadata": {
        "id": "V4zOehEjZfci"
      },
      "outputs": [],
      "source": [
        "gcd_str = \"\"\"\n",
        "def gcd(a, b):\n",
        "    if b == 0:\n",
        "        return a\n",
        "    else:\n",
        "        return gcd(a % b, b)\n",
        "\"\"\""
      ]
    },
    {
      "cell_type": "code",
      "execution_count": null,
      "metadata": {
        "id": "p2VndtOnzCNr"
      },
      "outputs": [],
      "source": [
        "def get_code_intention(code_snippet):\n",
        "    prompt = f\"What is the intention of this code?\\n\\n{code_snippet}\\n\\nIntention:\"\n",
        "    intention = chat_with_gpt(prompt)\n",
        "    return intention"
      ]
    },
    {
      "cell_type": "code",
      "execution_count": null,
      "metadata": {
        "id": "3r8adVa03Qlf"
      },
      "outputs": [],
      "source": [
        "def generate_programs(intention):\n",
        "    prompt = f\"Generate two different programs between ``` ``` that have the intention without any print or testing and getting input and calling the funstions program1 and program2: {intention}\\n\\nProgram 1:\"\n",
        "\n",
        "    programs = extract_code_blocks(chat_with_gpt(prompt))\n",
        "    # for i, program in enumerate(programs):\n",
        "      # if 'print' in program:\n",
        "      #   program = program.split('print')[1]\n",
        "      # if 'gcd' in program:\n",
        "      #   program = program.replace('gcd', f'program{i}')\n",
        "    return programs"
      ]
    },
    {
      "cell_type": "code",
      "execution_count": null,
      "metadata": {
        "id": "IviDpeIvhcZF"
      },
      "outputs": [],
      "source": [
        "code_snippets = generate_programs(intention)"
      ]
    },
    {
      "cell_type": "code",
      "execution_count": null,
      "metadata": {
        "colab": {
          "base_uri": "https://localhost:8080/"
        },
        "id": "87mLPAvwPS7a",
        "outputId": "8d010c89-ec2a-4326-85fa-e287a82226d5"
      },
      "outputs": [
        {
          "data": {
            "text/plain": [
              "['def calculate_program0(a, b):\\n    if b == 0:\\n        return a\\n    else:\\n        return calculate_program0(b, a % b)',\n",
              " 'def calculate_program1(a, b):\\n    while b != 0:\\n        temp = b\\n        b = a % b\\n        a = temp\\n    return a']"
            ]
          },
          "execution_count": 135,
          "metadata": {},
          "output_type": "execute_result"
        }
      ],
      "source": [
        "asb = []\n",
        "for i, program in enumerate(code_snippets):\n",
        "  asb.append(program.replace('gcd', f'program{i}'))\n",
        "\n",
        "asb\n",
        "# code_snippets"
      ]
    },
    {
      "cell_type": "code",
      "execution_count": null,
      "metadata": {
        "id": "wTSWDdP11rc_"
      },
      "outputs": [],
      "source": [
        "def generate_test_pool(code_snippet):\n",
        "  prompt = f\"\"\"\n",
        "\n",
        "  generate a test pool for this code\\n\\n{code_snippet} with input and output in list of python dict format like this between ``` ``` Test Pool:\n",
        "\n",
        "    test_pool = [\n",
        "      'input': 'a': num, 'b': num, 'output': num,\n",
        "      'input': 'a': num, 'b': num, 'output': num,\n",
        "    ]\n",
        "\n",
        "  \"\"\"\n",
        "  response = openai.ChatCompletion.create(\n",
        "        model='gpt-3.5-turbo',\n",
        "        messages = [{\"role\": \"user\", \"content\": prompt}],\n",
        "    )\n",
        "  test_cases = response.choices[0].message.content\n",
        "  return test_cases"
      ]
    },
    {
      "cell_type": "code",
      "execution_count": null,
      "metadata": {
        "id": "SOTguUaj36AS"
      },
      "outputs": [],
      "source": [
        "c = generate_test_pool(gcd_str)"
      ]
    },
    {
      "cell_type": "code",
      "execution_count": null,
      "metadata": {
        "id": "ni8Gn8tuYmZj"
      },
      "outputs": [],
      "source": [
        "c_ex = extract_code_blocks(c)"
      ]
    },
    {
      "cell_type": "code",
      "execution_count": null,
      "metadata": {
        "id": "kpnUXn3q362e"
      },
      "outputs": [],
      "source": [
        "result = c_ex[0].split('python')[1]"
      ]
    },
    {
      "cell_type": "code",
      "execution_count": null,
      "metadata": {
        "id": "qQCRffIbZhyK"
      },
      "outputs": [],
      "source": [
        "exec(result)"
      ]
    },
    {
      "cell_type": "code",
      "execution_count": null,
      "metadata": {
        "colab": {
          "base_uri": "https://localhost:8080/"
        },
        "id": "5e8_owsXZ3wn",
        "outputId": "fc4f858a-34f3-4068-97a3-3cb7bd5a0c73"
      },
      "outputs": [
        {
          "data": {
            "text/plain": [
              "[{'input': {'a': 15, 'b': 5}, 'output': 5},\n",
              " {'input': {'a': 20, 'b': 10}, 'output': 10},\n",
              " {'input': {'a': 8, 'b': 12}, 'output': 4},\n",
              " {'input': {'a': 100, 'b': 75}, 'output': 25},\n",
              " {'input': {'a': 7, 'b': 7}, 'output': 7},\n",
              " {'input': {'a': 0, 'b': 10}, 'output': 10}]"
            ]
          },
          "execution_count": 84,
          "metadata": {},
          "output_type": "execute_result"
        }
      ],
      "source": [
        "test_pool"
      ]
    },
    {
      "cell_type": "code",
      "execution_count": null,
      "metadata": {
        "colab": {
          "base_uri": "https://localhost:8080/"
        },
        "id": "_3BmHKJ2aXFu",
        "outputId": "cbe605c6-1b74-4746-8849-144597a2ebbe"
      },
      "outputs": [
        {
          "name": "stdout",
          "output_type": "stream",
          "text": [
            "exc\n",
            "{'input': [20, 30], 'output': 10}\n",
            "exc\n",
            "{'input': [15, 45], 'output': 15}\n",
            "exc\n",
            "{'input': [17, 23], 'output': 1}\n",
            "exc\n",
            "{'input': [0, 5], 'output': 5}\n",
            "exc\n",
            "{'input': [100, 200], 'output': 100}\n",
            "exc\n",
            "{'input': [123, 456], 'output': 3}\n",
            "exc\n",
            "{'input': [-20, 30], 'output': 10}\n",
            "exc\n",
            "{'input': [20, -30], 'output': 10}\n"
          ]
        }
      ],
      "source": [
        "gcd_str = \"\"\"\n",
        "def buggy(a, b):\n",
        "    if b == 0:\n",
        "        return a\n",
        "    else:\n",
        "        return buggy(a%b, b)\n",
        "\"\"\"\n",
        "\n",
        "exec(gcd_str)\n",
        "\n",
        "for program in asb:\n",
        "  exec(program)\n",
        "\n",
        "test_cases = [\n",
        "    {\"input\": [20, 30], \"output\": 10},\n",
        "    {\"input\": [15, 45], \"output\": 15},\n",
        "    {\"input\": [17, 23], \"output\": 1},\n",
        "    {\"input\": [0, 5], \"output\": 5},\n",
        "    {\"input\": [10, 0], \"output\": 10},\n",
        "    {\"input\": [0, 0], \"output\": None},\n",
        "    {\"input\": [100, 200], \"output\": 100},\n",
        "    {\"input\": [123, 456], \"output\": 3},\n",
        "    {\"input\": [-20, 30], \"output\": 10},\n",
        "    {\"input\": [20, -30], \"output\": 10},\n",
        "]\n",
        "\n",
        "for i, test_case in enumerate(test_cases):\n",
        "    expected_output_str = str(test_case['output'])\n",
        "    out1 = calculate_program0(*test_case['input'])\n",
        "    out2 = calculate_program1(*test_case['input'])\n",
        "    try:\n",
        "      out_buggy = buggy(*test_case['input'])\n",
        "    except:\n",
        "      out_buggy = 'exc'\n",
        "\n",
        "    if out1 == out2:\n",
        "      if out1 != out_buggy:\n",
        "        print(out_buggy)\n",
        "        print(test_case)\n",
        "      else:\n",
        "        continue\n",
        "    else:\n",
        "      continue"
      ]
    },
    {
      "cell_type": "code",
      "execution_count": 24,
      "metadata": {
        "id": "Ae587VjgcLxx"
      },
      "outputs": [
        {
          "data": {
            "text/plain": [
              "\"s = list(map(int, input().split()))\\r\\nt = list(map(int, input().split()))\\r\\nxs = [ s[i] - t[i] for i in range(len(s)) ]\\r\\n\\r\\ndemand = []\\r\\nsupply = []\\r\\nfor x in xs:\\r\\n    if x < 0:\\r\\n        demand.append(-x)\\r\\n    else:\\r\\n        supply.append(x)\\r\\n\\r\\nres = True\\r\\nif len(demand):\\r\\n    res = sum(supply) >= sum(demand) * 2\\r\\n    if res and len(supply) == 2 and supply[0] % 2 == supply[1] % 2 == 1:\\r\\n        res = False\\r\\n\\r\\nprint('Yes' if res else 'No')\""
            ]
          },
          "execution_count": 24,
          "metadata": {},
          "output_type": "execute_result"
        }
      ],
      "source": [
        "import pandas as pd\n",
        "df_submissions = pd.read_csv('data/py_submissions.csv')\n",
        "\n",
        "df = df_submissions[(df_submissions['problems_id'] == 133) & (df_submissions['author'] == 9)]\n",
        "df = df[['sourceCode']]\n",
        "df.values.tolist()[1][0]"
      ]
    },
    {
      "cell_type": "code",
      "execution_count": 44,
      "metadata": {},
      "outputs": [
        {
          "data": {
            "text/html": [
              "<div>\n",
              "<style scoped>\n",
              "    .dataframe tbody tr th:only-of-type {\n",
              "        vertical-align: middle;\n",
              "    }\n",
              "\n",
              "    .dataframe tbody tr th {\n",
              "        vertical-align: top;\n",
              "    }\n",
              "\n",
              "    .dataframe thead th {\n",
              "        text-align: right;\n",
              "    }\n",
              "</style>\n",
              "<table border=\"1\" class=\"dataframe\">\n",
              "  <thead>\n",
              "    <tr style=\"text-align: right;\">\n",
              "      <th></th>\n",
              "      <th>Unnamed: 0</th>\n",
              "      <th>id</th>\n",
              "      <th>submission</th>\n",
              "      <th>sourceCode</th>\n",
              "      <th>author</th>\n",
              "      <th>memory</th>\n",
              "      <th>time</th>\n",
              "      <th>sent</th>\n",
              "      <th>countLine</th>\n",
              "      <th>problems_id</th>\n",
              "      <th>verdicts_id</th>\n",
              "      <th>languages_id</th>\n",
              "      <th>isduplicated</th>\n",
              "    </tr>\n",
              "  </thead>\n",
              "  <tbody>\n",
              "    <tr>\n",
              "      <th>2</th>\n",
              "      <td>25</td>\n",
              "      <td>331321</td>\n",
              "      <td>25346581</td>\n",
              "      <td>def main():\\r\\n\\ta, b, c = map(int, input().sp...</td>\n",
              "      <td>9</td>\n",
              "      <td>4532</td>\n",
              "      <td>62</td>\n",
              "      <td>2017-03-08 20:28:48</td>\n",
              "      <td>10</td>\n",
              "      <td>290</td>\n",
              "      <td>1</td>\n",
              "      <td>8</td>\n",
              "      <td>0</td>\n",
              "    </tr>\n",
              "    <tr>\n",
              "      <th>3</th>\n",
              "      <td>26</td>\n",
              "      <td>331324</td>\n",
              "      <td>25346921</td>\n",
              "      <td>def d():\\r\\n    a, b, c = map(int,input().spli...</td>\n",
              "      <td>9</td>\n",
              "      <td>4516</td>\n",
              "      <td>62</td>\n",
              "      <td>2017-03-08 20:47:39</td>\n",
              "      <td>20</td>\n",
              "      <td>290</td>\n",
              "      <td>2</td>\n",
              "      <td>8</td>\n",
              "      <td>0</td>\n",
              "    </tr>\n",
              "  </tbody>\n",
              "</table>\n",
              "</div>"
            ],
            "text/plain": [
              "   Unnamed: 0      id  submission  \\\n",
              "2          25  331321    25346581   \n",
              "3          26  331324    25346921   \n",
              "\n",
              "                                          sourceCode  author  memory  time  \\\n",
              "2  def main():\\r\\n\\ta, b, c = map(int, input().sp...       9    4532    62   \n",
              "3  def d():\\r\\n    a, b, c = map(int,input().spli...       9    4516    62   \n",
              "\n",
              "                  sent  countLine  problems_id  verdicts_id  languages_id  \\\n",
              "2  2017-03-08 20:28:48         10          290            1             8   \n",
              "3  2017-03-08 20:47:39         20          290            2             8   \n",
              "\n",
              "   isduplicated  \n",
              "2             0  \n",
              "3             0  "
            ]
          },
          "execution_count": 44,
          "metadata": {},
          "output_type": "execute_result"
        }
      ],
      "source": [
        "df_submissions = pd.read_csv('data/py_submissions.csv')\n",
        "\n",
        "df = df_submissions[(df_submissions['problems_id'] == 290) & (df_submissions['author'] == 9)]\n",
        "df.head()"
      ]
    },
    {
      "cell_type": "code",
      "execution_count": 38,
      "metadata": {},
      "outputs": [],
      "source": [
        "df_testcases = pd.read_csv('data/py_testcases.csv')\n",
        "df_testcases = df_testcases[df_testcases['problems_id'] == 133]\n",
        "a = df_testcases[['expectedresult', 'inputdata']].to_dict('records')\n"
      ]
    },
    {
      "cell_type": "code",
      "execution_count": 39,
      "metadata": {},
      "outputs": [],
      "source": [
        "import random\n",
        "t = random.choice(a)"
      ]
    },
    {
      "cell_type": "code",
      "execution_count": 40,
      "metadata": {},
      "outputs": [
        {
          "data": {
            "text/plain": [
              "{'expectedresult': 'No',\n",
              " 'inputdata': '500000 999999 500000\\r\\r\\n1000000 0 500000'}"
            ]
          },
          "execution_count": 40,
          "metadata": {},
          "output_type": "execute_result"
        }
      ],
      "source": [
        "t"
      ]
    },
    {
      "cell_type": "code",
      "execution_count": 46,
      "metadata": {},
      "outputs": [
        {
          "data": {
            "text/plain": [
              "'def main():\\r\\n\\ta, b, c = map(int, input().split())\\r\\n\\tmin_a = min(a , b)\\r\\n\\tmax_a = max(a, b)\\r\\n\\tfor i in range(c // min_a + 1):\\r\\n\\t\\tif (c - min_a * i) % max_a == 0:\\r\\n\\t\\t\\treturn \"Yes\"\\r\\n\\treturn \"No\"\\r\\n\\r\\nprint(main())'"
            ]
          },
          "execution_count": 46,
          "metadata": {},
          "output_type": "execute_result"
        }
      ],
      "source": [
        "df_submissions = pd.read_csv('data/py_submissions.csv')\n",
        "df_submissions.iloc[2].sourceCode"
      ]
    },
    {
      "cell_type": "code",
      "execution_count": null,
      "metadata": {},
      "outputs": [],
      "source": []
    }
  ],
  "metadata": {
    "colab": {
      "provenance": []
    },
    "kernelspec": {
      "display_name": "Python 3",
      "name": "python3"
    },
    "language_info": {
      "name": "python",
      "version": "3.9.0"
    }
  },
  "nbformat": 4,
  "nbformat_minor": 0
}
